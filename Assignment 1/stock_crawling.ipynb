{
 "cells": [
  {
   "cell_type": "code",
   "execution_count": 1,
   "metadata": {},
   "outputs": [],
   "source": [
    "import yfinance as yf\n",
    "from pandas_datareader import data as pdr\n",
    "import pandas as pd\n",
    "yf.pdr_override() # <== the override :-)"
   ]
  },
  {
   "cell_type": "code",
   "execution_count": 49,
   "metadata": {},
   "outputs": [
    {
     "data": {
      "text/plain": [
       "{'0104.KL': 'GENETEC'}"
      ]
     },
     "execution_count": 49,
     "metadata": {},
     "output_type": "execute_result"
    }
   ],
   "source": [
    "exclude = ['TRIMODE', 'GREATEC', 'SNS', 'YENHER', 'LHI', 'FSBM']\n",
    "\n",
    "tickers = [\n",
    "    \"GENETEC (0104)\"\n",
    "# \"    QL (7084)  MAIN  QL RESOURCES BERHAD\",\n",
    "# \"GREENYB (0136)  MAIN  GREENYIELD BERHAD\",\n",
    "# \"YENHER (5300)  MAIN  YENHER HOLDINGS BERHAD\",\n",
    "# \"CAB (7174)  MAIN  CAB CAKARAN CORPORATION BERHAD\",\n",
    "# \"LHI (6633)  MAIN  LEONG HUP INTERNATIONAL BERHAD\",\n",
    "# \"MCEHLDG (7004)  MAIN  MCE HOLDINGS BERHAD\",\n",
    "# \"SMISCOR (7132)  MAIN  SMIS CORPORATION BERHAD\",\n",
    "# \"PECCA (5271)  MAIN  PECCA GROUP BERHAD\",\n",
    "# \"BAUTO (5248)  MAIN  BERMAZ AUTO BERHAD\",\n",
    "# \"HLIND (3301)  MAIN  HONG LEONG INDUSTRIES BERHAD\",\n",
    "# \"DELEUM (5132)  MAIN  DELEUM BERHAD\",\n",
    "# \"DIALOG (7277)  MAIN  DIALOG GROUP BERHAD\",\n",
    "# \"YINSON (7293)  MAIN  YINSON HOLDINGS BERHAD\",\n",
    "# \"ARMADA (5210)  MAIN  BUMI ARMADA BERHAD\",\n",
    "# \"DAYANG (5141)  MAIN  DAYANG ENTERPRISE HOLDINGS BERHAD\",\n",
    "# \"ELSOFT (0090)  MAIN  ELSOFT RESEARCH BERHAD\",\n",
    "# \"SNS (0259)  ACE  SNS NETWORK TECHNOLOGY BERHAD\",\n",
    "# \"PENTA (7160)  MAIN  PENTAMASTER CORPORATION BERHAD\",\n",
    "# \"GREATEC (0208)  MAIN  GREATECH TECHNOLOGY BERHAD\",\n",
    "# \"FSBM (9377)  MAIN  FSBM HOLDINGS BERHAD\",\n",
    "# \"EATECH (5259)  MAIN  E.A.TECHNIQUE (M) BERHAD\",\n",
    "# \"TASCO (5140)  MAIN  TASCO BERHAD\",\n",
    "# \"HARBOUR (2062)  MAIN  HARBOUR-LINK GROUP BERHAD\",\n",
    "# \"SYSCORP (5173)  MAIN  SHIN YANG SHIPPING CORPORATION BERHAD\",\n",
    "# \"TRIMODE (0199)  ACE  TRI-MODE SYSTEM (M) BERHAD\",\n",
    "# \"OPENSYS (0040)  MAIN  OPENSYS (M) BERHAD\",\n",
    "# \"CENSOF (5195)  MAIN  CENSOF HOLDINGS BERHAD\",\n",
    "# \"REXIT (0106)  ACE  REXIT BERHAD\",\n",
    "# \"HONGSENG (0041)  MAIN  HONG SENG CONSOLIDATED BERHAD\",\n",
    "# \"WILLOW (0008)  MAIN  WILLOWGLEN MSC BERHAD\",\n",
    "# \"MAYBANK (1155)  MAIN  MALAYAN BANKING BERHAD\",\n",
    "# \"SUPERMX (7106)  MAIN  SUPERMAX CORPORATION BERHAD\",\n",
    "# \"UCHITEC (7100)  MAIN  UCHI TECHNOLOGIES BERHAD\",\n",
    "# \"TOPGLOV (7113)  MAIN  TOP GLOVE CORPORATION BHD\",\n",
    "# \"INARI (0166)  MAIN  INARI AMERTRON BERHAD\",\n",
    "# \"VITROX (0097)  MAIN  VITROX CORPORATION BERHAD\"\n",
    "]\n",
    "tickers = {ticker.strip().split(\" \")[1][1:-1] + '.KL' : ticker.strip().split(\" \")[0] for ticker in tickers if ticker.strip().split(\" \")[0] not in exclude}\n",
    "tickers"
   ]
  },
  {
   "cell_type": "code",
   "execution_count": 53,
   "metadata": {},
   "outputs": [
    {
     "name": "stdout",
     "output_type": "stream",
     "text": [
      "[*********************100%***********************]  1 of 1 completed\n"
     ]
    },
    {
     "data": {
      "text/html": [
       "<div>\n",
       "<style scoped>\n",
       "    .dataframe tbody tr th:only-of-type {\n",
       "        vertical-align: middle;\n",
       "    }\n",
       "\n",
       "    .dataframe tbody tr th {\n",
       "        vertical-align: top;\n",
       "    }\n",
       "\n",
       "    .dataframe thead th {\n",
       "        text-align: right;\n",
       "    }\n",
       "</style>\n",
       "<table border=\"1\" class=\"dataframe\">\n",
       "  <thead>\n",
       "    <tr style=\"text-align: right;\">\n",
       "      <th></th>\n",
       "      <th>Adj Close</th>\n",
       "    </tr>\n",
       "    <tr>\n",
       "      <th>Date</th>\n",
       "      <th></th>\n",
       "    </tr>\n",
       "  </thead>\n",
       "  <tbody>\n",
       "    <tr>\n",
       "      <th>2005-11-07</th>\n",
       "      <td>0.257982</td>\n",
       "    </tr>\n",
       "    <tr>\n",
       "      <th>2005-11-08</th>\n",
       "      <td>0.257982</td>\n",
       "    </tr>\n",
       "    <tr>\n",
       "      <th>2005-11-09</th>\n",
       "      <td>0.254757</td>\n",
       "    </tr>\n",
       "    <tr>\n",
       "      <th>2005-11-10</th>\n",
       "      <td>0.235408</td>\n",
       "    </tr>\n",
       "    <tr>\n",
       "      <th>2005-11-11</th>\n",
       "      <td>0.235408</td>\n",
       "    </tr>\n",
       "    <tr>\n",
       "      <th>...</th>\n",
       "      <td>...</td>\n",
       "    </tr>\n",
       "    <tr>\n",
       "      <th>2023-03-23</th>\n",
       "      <td>2.820000</td>\n",
       "    </tr>\n",
       "    <tr>\n",
       "      <th>2023-03-24</th>\n",
       "      <td>2.830000</td>\n",
       "    </tr>\n",
       "    <tr>\n",
       "      <th>2023-03-27</th>\n",
       "      <td>2.740000</td>\n",
       "    </tr>\n",
       "    <tr>\n",
       "      <th>2023-03-28</th>\n",
       "      <td>2.710000</td>\n",
       "    </tr>\n",
       "    <tr>\n",
       "      <th>2023-03-29</th>\n",
       "      <td>2.710000</td>\n",
       "    </tr>\n",
       "  </tbody>\n",
       "</table>\n",
       "<p>4305 rows × 1 columns</p>\n",
       "</div>"
      ],
      "text/plain": [
       "            Adj Close\n",
       "Date                 \n",
       "2005-11-07   0.257982\n",
       "2005-11-08   0.257982\n",
       "2005-11-09   0.254757\n",
       "2005-11-10   0.235408\n",
       "2005-11-11   0.235408\n",
       "...               ...\n",
       "2023-03-23   2.820000\n",
       "2023-03-24   2.830000\n",
       "2023-03-27   2.740000\n",
       "2023-03-28   2.710000\n",
       "2023-03-29   2.710000\n",
       "\n",
       "[4305 rows x 1 columns]"
      ]
     },
     "execution_count": 53,
     "metadata": {},
     "output_type": "execute_result"
    }
   ],
   "source": [
    "compaines = pdr.get_data_yahoo(list(tickers.keys()), start=\"1999-01-01\", end=\"2023-04-01\")['Adj Close']\n",
    "try:\n",
    "    compaines = compaines.rename(columns = lambda x: tickers[x])\n",
    "except TypeError:\n",
    "    compaines = compaines.to_frame()\n",
    "compaines"
   ]
  },
  {
   "cell_type": "code",
   "execution_count": 60,
   "metadata": {},
   "outputs": [
    {
     "data": {
      "text/html": [
       "<div>\n",
       "<style scoped>\n",
       "    .dataframe tbody tr th:only-of-type {\n",
       "        vertical-align: middle;\n",
       "    }\n",
       "\n",
       "    .dataframe tbody tr th {\n",
       "        vertical-align: top;\n",
       "    }\n",
       "\n",
       "    .dataframe thead th {\n",
       "        text-align: right;\n",
       "    }\n",
       "</style>\n",
       "<table border=\"1\" class=\"dataframe\">\n",
       "  <thead>\n",
       "    <tr style=\"text-align: right;\">\n",
       "      <th></th>\n",
       "      <th>Adj Close</th>\n",
       "    </tr>\n",
       "    <tr>\n",
       "      <th>Date</th>\n",
       "      <th></th>\n",
       "    </tr>\n",
       "  </thead>\n",
       "  <tbody>\n",
       "    <tr>\n",
       "      <th>2018-03-31</th>\n",
       "      <td>0.099379</td>\n",
       "    </tr>\n",
       "    <tr>\n",
       "      <th>2018-04-30</th>\n",
       "      <td>0.089665</td>\n",
       "    </tr>\n",
       "    <tr>\n",
       "      <th>2018-05-31</th>\n",
       "      <td>0.090412</td>\n",
       "    </tr>\n",
       "    <tr>\n",
       "      <th>2018-06-30</th>\n",
       "      <td>0.089665</td>\n",
       "    </tr>\n",
       "    <tr>\n",
       "      <th>2018-07-31</th>\n",
       "      <td>0.096390</td>\n",
       "    </tr>\n",
       "    <tr>\n",
       "      <th>...</th>\n",
       "      <td>...</td>\n",
       "    </tr>\n",
       "    <tr>\n",
       "      <th>2022-11-30</th>\n",
       "      <td>2.600000</td>\n",
       "    </tr>\n",
       "    <tr>\n",
       "      <th>2022-12-31</th>\n",
       "      <td>2.390000</td>\n",
       "    </tr>\n",
       "    <tr>\n",
       "      <th>2023-01-31</th>\n",
       "      <td>2.650000</td>\n",
       "    </tr>\n",
       "    <tr>\n",
       "      <th>2023-02-28</th>\n",
       "      <td>2.760000</td>\n",
       "    </tr>\n",
       "    <tr>\n",
       "      <th>2023-03-31</th>\n",
       "      <td>2.710000</td>\n",
       "    </tr>\n",
       "  </tbody>\n",
       "</table>\n",
       "<p>61 rows × 1 columns</p>\n",
       "</div>"
      ],
      "text/plain": [
       "            Adj Close\n",
       "Date                 \n",
       "2018-03-31   0.099379\n",
       "2018-04-30   0.089665\n",
       "2018-05-31   0.090412\n",
       "2018-06-30   0.089665\n",
       "2018-07-31   0.096390\n",
       "...               ...\n",
       "2022-11-30   2.600000\n",
       "2022-12-31   2.390000\n",
       "2023-01-31   2.650000\n",
       "2023-02-28   2.760000\n",
       "2023-03-31   2.710000\n",
       "\n",
       "[61 rows x 1 columns]"
      ]
     },
     "execution_count": 60,
     "metadata": {},
     "output_type": "execute_result"
    }
   ],
   "source": [
    "nw_compaines = compaines.resample(\"1M\").agg( lambda x: x[-1])\n",
    "sample = nw_compaines.iloc[-61:, :]\n",
    "sample"
   ]
  },
  {
   "cell_type": "code",
   "execution_count": 63,
   "metadata": {},
   "outputs": [],
   "source": [
    "sample.rename(columns={'Adj Close' : \"GENETEC\"}).to_clipboard(excel=True, index=False)"
   ]
  },
  {
   "cell_type": "code",
   "execution_count": 59,
   "metadata": {},
   "outputs": [
    {
     "name": "stdout",
     "output_type": "stream",
     "text": [
      "Adj Close    9.093099\n",
      "dtype: float64\n",
      "Adj Close    33.501868\n",
      "dtype: float64\n",
      "Adj Close    3.684318\n",
      "dtype: float64\n"
     ]
    }
   ],
   "source": [
    "sample = sample.pct_change()\n",
    "averageReturn = sample.mean()\n",
    "std_return = sample.std(ddof=1)\n",
    "cv = std_return / averageReturn\n",
    "print(averageReturn * 100)\n",
    "print(std_return * 100)\n",
    "print(cv)"
   ]
  },
  {
   "cell_type": "code",
   "execution_count": 34,
   "metadata": {},
   "outputs": [
    {
     "data": {
      "text/plain": [
       "['TRIMODE', 'GREATEC', 'SNS', 'YENHER', 'LHI', 'FSBM']"
      ]
     },
     "execution_count": 34,
     "metadata": {},
     "output_type": "execute_result"
    }
   ],
   "source": [
    "# nw_df = nw_compaines.iloc[-61:]\n",
    "# [ticker for ticker, na in dict(nw_df.isna().any()).items() if na == True]"
   ]
  },
  {
   "cell_type": "code",
   "execution_count": 5,
   "metadata": {},
   "outputs": [],
   "source": [
    "import os.path"
   ]
  },
  {
   "cell_type": "code",
   "execution_count": 48,
   "metadata": {},
   "outputs": [],
   "source": [
    "\n",
    "filename = \"nw_companies.xlsx\"\n",
    "if not os.path.exists(filename):\n",
    "    with pd.ExcelWriter(filename, engine=\"openpyxl\", mode='w') as wf:    \n",
    "        df = nw_compaines.iloc[-61:, :]\n",
    "        # df.name = 'Adj Close'\n",
    "        df.to_excel(wf, sheet_name=ticker)\n",
    "else:\n",
    "    with pd.ExcelWriter(filename, engine=\"openpyxl\", mode='a', if_sheet_exists=\"replace\") as wf:    \n",
    "        df = nw_compaines.iloc[-61:, :]\n",
    "        # df.name = 'Adj Close'\n",
    "        df.to_excel(wf, sheet_name=ticker)"
   ]
  },
  {
   "cell_type": "code",
   "execution_count": 19,
   "metadata": {},
   "outputs": [
    {
     "data": {
      "text/plain": [
       "{'ty': ['WILLOW',\n",
       "  'OPENSYS',\n",
       "  'HONGSENG',\n",
       "  'ELSOFT',\n",
       "  'REXIT',\n",
       "  'GREENYB',\n",
       "  'TRIMODE'],\n",
       " 'es': ['GREATEC', 'SNS', 'HARBOUR', 'HLIND', 'DELEUM', 'TASCO', 'DAYANG'],\n",
       " 'jb': ['SYSCORP', 'CENSOF', 'ARMADA', 'BAUTO', 'EATECH', 'PECCA', 'YENHER'],\n",
       " 'zk': ['LHI', 'MCEHLDG', 'QL', 'SMISCOR', 'PENTA', 'CAB', 'DIALOG'],\n",
       " 'extra': ['YINSON', 'FSBM']}"
      ]
     },
     "execution_count": 19,
     "metadata": {},
     "output_type": "execute_result"
    }
   ],
   "source": [
    "members = ['ty', 'es', 'jb', 'zk', 'extra']\n",
    "comps = nw_compaines.columns\n",
    "distributions = {}\n",
    "interval = 7\n",
    "for i, chunk in enumerate(range(0, len(comps), interval)):\n",
    "    distributions[members[i]] = list(comps[chunk: interval].values)\n",
    "    interval += 7\n",
    "distributions\n"
   ]
  },
  {
   "cell_type": "code",
   "execution_count": 22,
   "metadata": {},
   "outputs": [],
   "source": [
    "import pyperclip"
   ]
  },
  {
   "cell_type": "code",
   "execution_count": 26,
   "metadata": {},
   "outputs": [],
   "source": [
    "pyperclip.copy(\", \".join(distributions['zk']))"
   ]
  },
  {
   "cell_type": "code",
   "execution_count": 2,
   "metadata": {},
   "outputs": [
    {
     "name": "stdout",
     "output_type": "stream",
     "text": [
      "[*********************100%***********************]  1 of 1 completed\n"
     ]
    },
    {
     "data": {
      "text/plain": [
       "Date\n",
       "1999-01-04     561.650024\n",
       "1999-01-05     567.890015\n",
       "1999-01-06     586.479980\n",
       "1999-01-07     585.890015\n",
       "1999-01-08     591.700012\n",
       "                 ...     \n",
       "2023-03-23    1410.979980\n",
       "2023-03-24    1399.699951\n",
       "2023-03-27    1396.599976\n",
       "2023-03-28    1409.089966\n",
       "2023-03-29    1420.349976\n",
       "Name: Adj Close, Length: 5949, dtype: float64"
      ]
     },
     "execution_count": 2,
     "metadata": {},
     "output_type": "execute_result"
    }
   ],
   "source": [
    "market_index = pdr.get_data_yahoo(\"^KLSE\", start=\"1999-01-01\", end=\"2023-03-30\")['Adj Close']\n",
    "market_index"
   ]
  },
  {
   "cell_type": "code",
   "execution_count": 3,
   "metadata": {},
   "outputs": [],
   "source": [
    "market_index.resample(\"1M\").agg( lambda x: x[-1])[-61:].to_excel(\"market_index.xlsx\")"
   ]
  },
  {
   "cell_type": "code",
   "execution_count": 4,
   "metadata": {},
   "outputs": [],
   "source": [
    "import subprocess"
   ]
  },
  {
   "cell_type": "code",
   "execution_count": 5,
   "metadata": {},
   "outputs": [
    {
     "data": {
      "text/plain": [
       "<Popen: returncode: None args: 'market_index.xlsx'>"
      ]
     },
     "execution_count": 5,
     "metadata": {},
     "output_type": "execute_result"
    }
   ],
   "source": [
    "subprocess.Popen(r\"market_index.xlsx\", shell=True)"
   ]
  }
 ],
 "metadata": {
  "kernelspec": {
   "display_name": "ven310",
   "language": "python",
   "name": "python3"
  },
  "language_info": {
   "codemirror_mode": {
    "name": "ipython",
    "version": 3
   },
   "file_extension": ".py",
   "mimetype": "text/x-python",
   "name": "python",
   "nbconvert_exporter": "python",
   "pygments_lexer": "ipython3",
   "version": "3.10.2"
  },
  "orig_nbformat": 4
 },
 "nbformat": 4,
 "nbformat_minor": 2
}
